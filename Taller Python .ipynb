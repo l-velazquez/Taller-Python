{
 "cells":[
  {
   "cell_type":"markdown",
   "source":[
    "# Laboratorio # 2"
   ],
   "attachments":{
    
   },
   "metadata":{
    "datalore":{
     "node_id":"Laboratorio # 2",
     "type":"MD",
     "hide_input_from_viewers":false,
     "hide_output_from_viewers":false,
     "sheet_delimiter":true
    }
   }
  },
  {
   "cell_type":"markdown",
   "source":[
    "# Laboratorio # 2 : Encontrando relación entre enfermedades del corazón y el tipo de residencia."
   ],
   "attachments":{
    
   },
   "metadata":{
    "datalore":{
     "node_id":"RuHbyrN8AcqPYb3EKuersR",
     "type":"MD",
     "hide_input_from_viewers":true,
     "hide_output_from_viewers":true
    }
   }
  },
  {
   "cell_type":"markdown",
   "source":[
    "### El Laboratorio #2 se enfoca específicamente en encontrar la relación entre enfermedades del corazón y el tipo de residencia. En este laboratorio se llevara a cabo experimentos y análisis de datos para investigar esta relación, utilizando herramientas como tablas de contingencia y gráficos de barras dobles."
   ],
   "attachments":{
    
   },
   "metadata":{
    "datalore":{
     "node_id":"A0AdBC954CjNJjpykFqI81",
     "type":"MD",
     "hide_input_from_viewers":true,
     "hide_output_from_viewers":true
    }
   }
  },
  {
   "cell_type":"markdown",
   "source":[
    "# PT.1 Importando librerias"
   ],
   "attachments":{
    
   },
   "metadata":{
    "datalore":{
     "node_id":"qz5dKQWo8wXhvCPJX6IAkE",
     "type":"MD",
     "hide_input_from_viewers":true,
     "hide_output_from_viewers":true
    }
   }
  },
  {
   "cell_type":"markdown",
   "source":[
    "En este laboratorio vamos a utilizar tres bibliotecas de Python \n",
    "muy importantes para el análisis de datos: NumPy, Pandas, Matplotlib.\n",
    "\n",
    "Es importante importar las bibliotecas en Python porque nos permiten utilizar sus funciones y\n",
    "herramientas ya existentes, ahorramos tiempo y esfuerzo en la creación de programas, \n",
    "y podemos asegurar un rendimiento optimizado y eficiente en nuestro código."
   ],
   "attachments":{
    
   },
   "metadata":{
    "datalore":{
     "node_id":"tSiLxMJOyBwUKrtcXCMK3P",
     "type":"MD",
     "hide_input_from_viewers":true,
     "hide_output_from_viewers":true
    }
   }
  },
  {
   "cell_type":"code",
   "source":[
    "# Importe la biblioteca NumPy y abreviarla como 'np', Pandas como 'pd' y Matplotlib como 'plt'\n",
    "\n",
    "\n",
    "# Numpy aqui\n",
    "import numpy as np\n",
    "\n",
    "# Pandas aqui\n",
    "import pandas as pd\n",
    "\n",
    "\n",
    "# Matplotlib aqui\n"
   ],
   "execution_count":null,
   "outputs":[
    
   ],
   "metadata":{
    "datalore":{
     "node_id":"umg9lCJ7RLHptDfmYCIGHB",
     "type":"CODE",
     "hide_input_from_viewers":true,
     "hide_output_from_viewers":true
    }
   }
  },
  {
   "cell_type":"markdown",
   "source":[
    "# PT.2 Cargando y Limpiando"
   ],
   "attachments":{
    
   },
   "metadata":{
    "datalore":{
     "node_id":"07hoprrNkFOQ5PEMoanmcZ",
     "type":"MD",
     "hide_input_from_viewers":true,
     "hide_output_from_viewers":true
    }
   }
  },
  {
   "cell_type":"markdown",
   "source":[
    " En la sección de \"Cargando y limpiando\" del laboratorio, el objetivo es cargar un conjunto de datos en un DataFrame de Pandas y realizar una limpieza básica de los datos para prepararlos para su análisis.\n",
    "   \n",
    "El primer paso de cargar los datos en un DataFrame de Pandas utilizando  la función  read_csv(). A continuación, se explorarán los datos para identificar posibles problemas como valores faltantes, valores atípicos o datos duplicados."
   ],
   "attachments":{
    
   },
   "metadata":{
    "datalore":{
     "node_id":"9nmCnjnYgAU3918YNwDicH",
     "type":"MD",
     "hide_input_from_viewers":true,
     "hide_output_from_viewers":true
    }
   }
  },
  {
   "cell_type":"code",
   "source":[
    "# Escriba el codigo para leer el archivo healthcare-dataset-stroke-data.csv y cargarlo en un variable llamada 'health_care_csv'\n",
    "health_care_csv = pd.______________________"
   ],
   "execution_count":null,
   "outputs":[
    
   ],
   "metadata":{
    "datalore":{
     "node_id":"YdMjja1Bu1zhq1wzxQ9jQt",
     "type":"CODE",
     "hide_input_from_viewers":true,
     "hide_output_from_viewers":true
    }
   }
  },
  {
   "cell_type":"code",
   "source":[
    "# Para desplegarlo (no hay que modificar)\n",
    "health_care_csv"
   ],
   "execution_count":null,
   "outputs":[
    
   ],
   "metadata":{
    "datalore":{
     "node_id":"wfBzsoAelUWHA11rEbpBY9",
     "type":"CODE",
     "hide_input_from_viewers":true,
     "hide_output_from_viewers":true
    }
   }
  },
  {
   "cell_type":"markdown",
   "source":[
    "   ¿Podrías decirme qué tipo de datos crees que son las columnas heart_disease y \n",
    "   Residence_type en el DataFrame? Además, ¿tienes alguna idea sobre qué tipo de \n",
    "   información podrían contener estas columnas en relación con el conjunto de datos? "
   ],
   "attachments":{
    
   },
   "metadata":{
    "datalore":{
     "node_id":"z8BkYY7kgvyaWDOy6rhY4o",
     "type":"MD",
     "hide_input_from_viewers":true,
     "hide_output_from_viewers":true
    }
   }
  },
  {
   "cell_type":"markdown",
   "source":[
    "## Trabajando con la columna Residence_type"
   ],
   "attachments":{
    
   },
   "metadata":{
    "datalore":{
     "node_id":"JgctJpLgHgfNjkqrYkL7hN",
     "type":"MD",
     "hide_input_from_viewers":true,
     "hide_output_from_viewers":true
    }
   }
  },
  {
   "cell_type":"markdown",
   "source":[
    "Como previamente mencionamos,es importante verificar que la data esté limpia en el análisis de datos porque la calidad de ellos afectará directamente los resultados del análisis. Si la data está sucia o incompleta, los resultados obtenidos pueden ser incorrectos o inexactos, lo que puede llevar a conclusiones equivocadas o a decisiones costosas."
   ],
   "attachments":{
    
   },
   "metadata":{
    "datalore":{
     "node_id":"MrSAm6tSwFilgjmIOLhF9v",
     "type":"MD",
     "hide_input_from_viewers":true,
     "hide_output_from_viewers":true
    }
   }
  },
  {
   "cell_type":"code",
   "source":[
    "# Extrae la columna y insertela en la variable llamada 'healt_care_residence_column'\n",
    "healt_care_residence_column = health_care_csv['______________']\n",
    "\n",
    "# Desplega su tipo usando dtype. Es el esperado?\n",
    "print(___________________________.dtype)\n",
    "\n",
    "# Convierte los valores de la columna 'Residence_type' en strings (str)\n",
    "health_care_csv['________________'] = health_care_csv['Residence_type'].astype(___)\n",
    "\n",
    "# Elimina los valores nulos de la columna usando dropna()\n",
    "health_care_csv['Residence_type'] = health_care_csv['Residence_type'].__________"
   ],
   "execution_count":null,
   "outputs":[
    
   ],
   "metadata":{
    "datalore":{
     "node_id":"3ox0ch4xgtVvJtI8ziKixM",
     "type":"CODE",
     "hide_input_from_viewers":true,
     "hide_output_from_viewers":true
    }
   }
  },
  {
   "cell_type":"markdown",
   "source":[
    "####  Cuando una columna en un DataFrame de pandas contiene valores de tipo string, el tipo de datos de esa columna se define como object en lugar de str. Esto se debe a que en pandas, los objetos str se almacenan como objetos object, que son contenedores genéricos para tipos de datos no numéricos."
   ],
   "attachments":{
    
   },
   "metadata":{
    "datalore":{
     "node_id":"MkF6H6UFD69rxE8UL2AObL",
     "type":"MD",
     "hide_input_from_viewers":true,
     "hide_output_from_viewers":true
    }
   }
  },
  {
   "cell_type":"code",
   "source":[
    "# Para desplegar la columna Residence_type (no hay que modificar)\n",
    "health_care_csv['Residence_type']"
   ],
   "execution_count":null,
   "outputs":[
    
   ],
   "metadata":{
    "datalore":{
     "node_id":"RM1Ai4xxmTrSKOcrgwqzfK",
     "type":"CODE",
     "hide_input_from_viewers":true,
     "hide_output_from_viewers":true
    }
   }
  },
  {
   "cell_type":"markdown",
   "source":[
    "Para saber la frecuencia de valores en una columna de un DataFrame de pandas, se puede utilizar el método value_counts(). Este método cuenta el número de ocurrencias de cada valor único en la columna y los devuelve en un objeto de tipo Series de pandas, ordenado por frecuencia descendente."
   ],
   "attachments":{
    
   },
   "metadata":{
    "datalore":{
     "node_id":"LBQNHmGx3GWZDgYYwEHbAE",
     "type":"MD",
     "hide_input_from_viewers":true,
     "hide_output_from_viewers":true
    }
   }
  },
  {
   "cell_type":"code",
   "source":[
    "# Use value_counts() en la columna 'Residence_type' para saber con cuantos tipos de reciendia \n",
    "# contiene la data\n",
    "health_care_csv['___________']._____________"
   ],
   "execution_count":null,
   "outputs":[
    
   ],
   "metadata":{
    "datalore":{
     "node_id":"dWrTE1trvINGtUsJ1IA7FE",
     "type":"CODE",
     "hide_input_from_viewers":true,
     "hide_output_from_viewers":true
    }
   }
  },
  {
   "cell_type":"markdown",
   "source":[
    "Basado en el resultado del ejercicio anterior, donde se obtuvo la frecuencia de valores en la columna 'Residence_type' de un DataFrame. En que lugar usted esperaria que se encuentre la mayoria de las personas con problemas de salud?"
   ],
   "attachments":{
    
   },
   "metadata":{
    "datalore":{
     "node_id":"DkjCtuYx3sDS8ui0dh3KwW",
     "type":"MD",
     "hide_input_from_viewers":true,
     "hide_output_from_viewers":true
    }
   }
  },
  {
   "cell_type":"markdown",
   "source":[
    "## Trabajando con la columna Residence_type"
   ],
   "attachments":{
    
   },
   "metadata":{
    "datalore":{
     "node_id":"vGnSZeOOleD42IDc9Hxftf",
     "type":"MD",
     "hide_input_from_viewers":true,
     "hide_output_from_viewers":true
    }
   }
  },
  {
   "cell_type":"markdown",
   "source":[
    "Como de costumbre es imporante realizar regularmente la limpieza de los datos, y en esta ocasión nos centraremos específicamente en la columna 'heart_disease' para asegurarnos de que está completamente depurada y no contiene errores ni incongruencias."
   ],
   "attachments":{
    
   },
   "metadata":{
    "datalore":{
     "node_id":"6zPiYZACPsZpzEziHzUWsV",
     "type":"MD",
     "hide_input_from_viewers":true,
     "hide_output_from_viewers":true
    }
   }
  },
  {
   "cell_type":"code",
   "source":[
    "# Extrae la columna de 'Residence_type' y insertela en la variable llamada 'healt_care_heart_disease_column'\n",
    "healt_care_heart_disease_column = ________________________\n",
    "\n",
    "# Despliegue de nuevo su tipo. Es el esperado?\n",
    "print(____________________________________)"
   ],
   "execution_count":null,
   "outputs":[
    
   ],
   "metadata":{
    "datalore":{
     "node_id":"xJtsd46XvEmA3WYtdDI8yZ",
     "type":"CODE",
     "hide_input_from_viewers":true,
     "hide_output_from_viewers":true
    }
   }
  },
  {
   "cell_type":"markdown",
   "source":[
    "#### Es importante \"int64\" y \"enteros\" son lo mismo en el sentido de que ambos se refieren a números enteros, pero \"int64\" es un tipo específico de dato que se utiliza en programación para representar enteros de 64 bits."
   ],
   "attachments":{
    
   },
   "metadata":{
    "datalore":{
     "node_id":"Xbx45zMPuvBmjQOSraOpew",
     "type":"MD",
     "hide_input_from_viewers":true,
     "hide_output_from_viewers":true
    }
   }
  },
  {
   "cell_type":"code",
   "source":[
    "# Convierte los valores de la columna 'heart_disease' en enteros \n",
    "health_care_csv['____________'] = health_care_csv['heart_disease'].________(int)\n",
    "\n",
    "# Elimina los valores nulos de la columna 'heart_disease' usando dropna()\n",
    "health_care_csv['heart_disease'] = health_care_csv['____________'].dropna()"
   ],
   "execution_count":null,
   "outputs":[
    
   ],
   "metadata":{
    "datalore":{
     "node_id":"ZmEMx2Qj3OkuY5p1ez1GPP",
     "type":"CODE",
     "hide_input_from_viewers":true,
     "hide_output_from_viewers":true
    }
   }
  },
  {
   "cell_type":"code",
   "source":[
    "# Para despleguar la columna (no hay que modificar)\n",
    "health_care_csv['heart_disease']"
   ],
   "execution_count":null,
   "outputs":[
    
   ],
   "metadata":{
    "datalore":{
     "node_id":"vNovAOiE4QDLJxWu76UmaN",
     "type":"CODE",
     "hide_input_from_viewers":true,
     "hide_output_from_viewers":true
    }
   }
  },
  {
   "cell_type":"code",
   "source":[
    "# Busque la frecuencia de la tabla usando value_count()\n",
    "healt_care_heart_disease_column.______________"
   ],
   "execution_count":null,
   "outputs":[
    
   ],
   "metadata":{
    "datalore":{
     "node_id":"ooHTCZRS4aWADoNpnVAnAH",
     "type":"CODE",
     "hide_input_from_viewers":true,
     "hide_output_from_viewers":true
    }
   }
  },
  {
   "cell_type":"markdown",
   "source":[
    "¿Después de analizar los resultados, tu opinión sobre si las personas en áreas urbanas o rurales tienen una mayor propensión a padecer enfermedades del corazón ha cambiado?"
   ],
   "attachments":{
    
   },
   "metadata":{
    "datalore":{
     "node_id":"wsdcv6EUW7LexU0e0xD0Bk",
     "type":"MD",
     "hide_input_from_viewers":true,
     "hide_output_from_viewers":true
    }
   }
  },
  {
   "cell_type":"markdown",
   "source":[
    "# PT.3 Encontrando la relación entre Residence_type y heart_disease"
   ],
   "attachments":{
    
   },
   "metadata":{
    "datalore":{
     "node_id":"AKKHGoHIHOOk3A0EiJCrFJ",
     "type":"MD",
     "hide_input_from_viewers":true,
     "hide_output_from_viewers":true
    }
   }
  },
  {
   "cell_type":"markdown",
   "source":[
    " Para calcular la frecuencia de dos variables categóricas, lo que se puede hacer es crear una tabla de contingencia, también conocida como tabla de doble entrada. Esta tabla muestra la distribución conjunta de las dos variables y cuenta cuántas veces aparece cada combinación de categorías. Debajo veras un ejemplo de una tabla de contingencia."
   ],
   "attachments":{
    
   },
   "metadata":{
    "datalore":{
     "node_id":"dazBTvt7qq2UQiJWXHaXlH",
     "type":"MD",
     "hide_input_from_viewers":true,
     "hide_output_from_viewers":true
    }
   }
  },
  {
   "cell_type":"markdown",
   "source":[
    "![Contingency Table](attachment:.\/fb41a0fa83b845840a828bdc17a06e92b536cb09.png)"
   ],
   "attachments":{
    ".\/fb41a0fa83b845840a828bdc17a06e92b536cb09.png":{
     "image\/png":"[encoded data removed]"
    }
   },
   "metadata":{
    "datalore":{
     "node_id":"rUIDuasvW8ZGu8vBIaMdNG",
     "type":"MD",
     "hide_input_from_viewers":true,
     "hide_output_from_viewers":true
    }
   }
  },
  {
   "cell_type":"markdown",
   "source":[
    "La función crosstab() de la librería pandas en Python se utiliza para crear tablas de contingencia o tablas cruzadas que muestran la distribución conjunta de dos o más variables categóricas. Estas tablas son importantes porque nos permiten visualizar y analizar la relación entre dos o más variables categóricas."
   ],
   "attachments":{
    
   },
   "metadata":{
    "datalore":{
     "node_id":"M6hY2yo12V8NcWvXaZGUvh",
     "type":"MD",
     "hide_input_from_viewers":true,
     "hide_output_from_viewers":true
    }
   }
  },
  {
   "cell_type":"code",
   "source":[
    "# Llena los blancos para crear la tabla de contingencia\n",
    "tabla_contingencia = pd.crosstab(health_care_csv['_______________'], health_care_csv['__________________'])\n",
    "\n",
    "# Usar la tabla de contingencia para crear una tabla de propocion\n",
    "\n",
    "tabla_proporcion = ___________________.div(tabla_contingencia.sum(axis=1), axis=0)\n",
    "\n",
    "# Agregar los totales de fila y columna a la tabla ( no hay que modificar)\n",
    "tabla_contingencia['Total'] = tabla_contingencia.sum(axis=1)\n",
    "tabla_contingencia.loc['Total'] = tabla_contingencia.sum(axis=0)\n",
    "\n",
    "tabla_proporcion['Total'] = tabla_proporcion.sum(axis=1)\n",
    "tabla_proporcion.loc['Total'] = tabla_proporcion.sum(axis=0)\n",
    "\n",
    "# Mostrar las tablas ( no hay que modificar)\n",
    "print(\"Tabla de contingencia:\")\n",
    "tabla_contingencia"
   ],
   "execution_count":33,
   "outputs":[
    {
     "name":"stdout",
     "text":[
      "Tabla de contingencia:\n"
     ],
     "output_type":"stream"
    },
    {
     "data":{
      "text\/html":[
       "<div>\n",
       "<style scoped>\n",
       "    .dataframe tbody tr th:only-of-type {\n",
       "        vertical-align: middle;\n",
       "    }\n",
       "\n",
       "    .dataframe tbody tr th {\n",
       "        vertical-align: top;\n",
       "    }\n",
       "\n",
       "    .dataframe thead th {\n",
       "        text-align: right;\n",
       "    }\n",
       "<\/style>\n",
       "<table border=\"1\" class=\"dataframe\">\n",
       "  <thead>\n",
       "    <tr style=\"text-align: right;\">\n",
       "      <th>Residence_type<\/th>\n",
       "      <th>Rural<\/th>\n",
       "      <th>Urban<\/th>\n",
       "      <th>Total<\/th>\n",
       "    <\/tr>\n",
       "    <tr>\n",
       "      <th>heart_disease<\/th>\n",
       "      <th><\/th>\n",
       "      <th><\/th>\n",
       "      <th><\/th>\n",
       "    <\/tr>\n",
       "  <\/thead>\n",
       "  <tbody>\n",
       "    <tr>\n",
       "      <th>0<\/th>\n",
       "      <td>2380<\/td>\n",
       "      <td>2454<\/td>\n",
       "      <td>4834<\/td>\n",
       "    <\/tr>\n",
       "    <tr>\n",
       "      <th>1<\/th>\n",
       "      <td>134<\/td>\n",
       "      <td>142<\/td>\n",
       "      <td>276<\/td>\n",
       "    <\/tr>\n",
       "    <tr>\n",
       "      <th>Total<\/th>\n",
       "      <td>2514<\/td>\n",
       "      <td>2596<\/td>\n",
       "      <td>5110<\/td>\n",
       "    <\/tr>\n",
       "  <\/tbody>\n",
       "<\/table>\n",
       "<\/div>"
      ]
     },
     "metadata":{
      
     },
     "output_type":"display_data"
    }
   ],
   "metadata":{
    "datalore":{
     "node_id":"q2BmzlplUnEAuJwfKqPMQj",
     "type":"CODE",
     "hide_input_from_viewers":true,
     "hide_output_from_viewers":true
    }
   }
  },
  {
   "cell_type":"markdown",
   "source":[
    "Podemos usar la tabla de proporciones para saber el porcentaje de afectad@s o no afectad@s. No modificaremos nada en esta parte."
   ],
   "attachments":{
    
   },
   "metadata":{
    "datalore":{
     "node_id":"5q4nMMHP0DfoqdN7lQU8pg",
     "type":"MD",
     "hide_input_from_viewers":true,
     "hide_output_from_viewers":true
    }
   }
  },
  {
   "cell_type":"code",
   "source":[
    "# Para desplegar (no modificar)\n",
    "print(\"Tabla de proporciones:\")\n",
    "tabla_proporcion"
   ],
   "execution_count":34,
   "outputs":[
    {
     "name":"stdout",
     "text":[
      "Tabla de proporciones:\n"
     ],
     "output_type":"stream"
    },
    {
     "data":{
      "text\/html":[
       "<div>\n",
       "<style scoped>\n",
       "    .dataframe tbody tr th:only-of-type {\n",
       "        vertical-align: middle;\n",
       "    }\n",
       "\n",
       "    .dataframe tbody tr th {\n",
       "        vertical-align: top;\n",
       "    }\n",
       "\n",
       "    .dataframe thead th {\n",
       "        text-align: right;\n",
       "    }\n",
       "<\/style>\n",
       "<table border=\"1\" class=\"dataframe\">\n",
       "  <thead>\n",
       "    <tr style=\"text-align: right;\">\n",
       "      <th>Residence_type<\/th>\n",
       "      <th>Rural<\/th>\n",
       "      <th>Urban<\/th>\n",
       "      <th>Total<\/th>\n",
       "    <\/tr>\n",
       "    <tr>\n",
       "      <th>heart_disease<\/th>\n",
       "      <th><\/th>\n",
       "      <th><\/th>\n",
       "      <th><\/th>\n",
       "    <\/tr>\n",
       "  <\/thead>\n",
       "  <tbody>\n",
       "    <tr>\n",
       "      <th>0<\/th>\n",
       "      <td>0.492346<\/td>\n",
       "      <td>0.507654<\/td>\n",
       "      <td>1.0<\/td>\n",
       "    <\/tr>\n",
       "    <tr>\n",
       "      <th>1<\/th>\n",
       "      <td>0.485507<\/td>\n",
       "      <td>0.514493<\/td>\n",
       "      <td>1.0<\/td>\n",
       "    <\/tr>\n",
       "    <tr>\n",
       "      <th>Total<\/th>\n",
       "      <td>0.977853<\/td>\n",
       "      <td>1.022147<\/td>\n",
       "      <td>2.0<\/td>\n",
       "    <\/tr>\n",
       "  <\/tbody>\n",
       "<\/table>\n",
       "<\/div>"
      ]
     },
     "metadata":{
      
     },
     "output_type":"display_data"
    }
   ],
   "metadata":{
    "datalore":{
     "node_id":"cXJkiqk3Pde09QoxZ28Bdt",
     "type":"CODE",
     "hide_input_from_viewers":true,
     "hide_output_from_viewers":true
    }
   }
  },
  {
   "cell_type":"markdown",
   "source":[
    "Basándonos en los resultados de la tabla de contingencia y proporcion, ¿Qué podrías interpretar sobre la relación entre las variables que se comparan? ¿Que lugar contiene la mayor cantidad de personas con problemas del corazón?"
   ],
   "attachments":{
    
   },
   "metadata":{
    "datalore":{
     "node_id":"DBk84XT7POur04oEtG0pSy",
     "type":"MD",
     "hide_input_from_viewers":true,
     "hide_output_from_viewers":true
    }
   }
  },
  {
   "cell_type":"markdown",
   "source":[
    "# PT.4 Usando Matplotlib para graficar esta relación"
   ],
   "attachments":{
    
   },
   "metadata":{
    "datalore":{
     "node_id":"TEuEkTwEG6mQVapWZx9yQZ",
     "type":"MD",
     "hide_input_from_viewers":true,
     "hide_output_from_viewers":true
    }
   }
  },
  {
   "cell_type":"markdown",
   "source":[
    "Durante nuestra presentación, mencionamos que los histogramas son útiles para contar frecuencias. En esta ocasión, utilizaremos un gráfico de barras doble para mostrar la relación entre las dos variables."
   ],
   "attachments":{
    
   },
   "metadata":{
    "datalore":{
     "node_id":"R5xEqoOULj6AdLaE0qvdgy",
     "type":"MD",
     "hide_input_from_viewers":true,
     "hide_output_from_viewers":true
    }
   }
  },
  {
   "cell_type":"code",
   "source":[
    "# Despliegue 'tabla_contingencia' usando matplotlib\n",
    "_____________________.plot(kind='bar', stacked=True)\n",
    "\n",
    "# Personalizar el gráfico\n",
    "plt.title('Relación entre tipo de residencia y enfermedad del corazón')\n",
    "plt.xlabel('Enfermedad se presenta')\n",
    "plt.ylabel('Número de casos')"
   ],
   "execution_count":null,
   "outputs":[
    
   ],
   "metadata":{
    "datalore":{
     "node_id":"hHJvAguAzpikDa8foHaNye",
     "type":"CODE",
     "hide_input_from_viewers":true,
     "hide_output_from_viewers":true
    }
   }
  },
  {
   "cell_type":"markdown",
   "source":[
    "¿Podrías decirme qué conclusiones puedes sacar de esta figura en relación a la frecuencia de casos de enfermedad del corazón en cada tipo de residencia? Además, tu hipótesis previa acerca de esta relación, ¿concuerdan las conclusiones obtenidas con tus hipótesis?"
   ],
   "attachments":{
    
   },
   "metadata":{
    "datalore":{
     "node_id":"hdYHE66Pgds1IsbLa9fuDl",
     "type":"MD",
     "hide_input_from_viewers":true,
     "hide_output_from_viewers":true
    }
   }
  },
  {
   "cell_type":"markdown",
   "source":[
    "# PT.5 ¿Qué concluirías en base a los datos?"
   ],
   "attachments":{
    
   },
   "metadata":{
    "datalore":{
     "node_id":"cMrXaheKK6fiZeb4Czhfym",
     "type":"MD",
     "hide_input_from_viewers":true,
     "hide_output_from_viewers":true
    }
   }
  },
  {
   "cell_type":"code",
   "source":[
    "##############################\n",
    "# Escriba su respuesta aqui!!#\n",
    "##############################"
   ],
   "execution_count":null,
   "outputs":[
    
   ],
   "metadata":{
    "datalore":{
     "node_id":"qJCTT3l4q62BzmhHYJ41qP",
     "type":"CODE",
     "hide_input_from_viewers":true,
     "hide_output_from_viewers":true
    }
   }
  }
 ],
 "metadata":{
  "kernelspec":{
   "display_name":"Python",
   "language":"python",
   "name":"python"
  },
  "datalore":{
   "computation_mode":"JUPYTER",
   "package_manager":"pip",
   "base_environment":"default",
   "packages":[
    
   ],
   "report_row_ids":[
    "OGb8PuiGoFZ6pt4JC2dWlC",
    "pZtVN3dmUwMdLAF4Mo823r",
    "CMrZZXZ3mCA0wo9J5cUQDu",
    "T2dMYMCku8pgTV7h5TiIkB",
    "Sc4nMsByjO4clLFqVfZtFb",
    "3sf4lCyHYdyix19jR0PJOS",
    "T43WOAG15p4GePF7JTHjOC",
    "UKQXGvOf3mpiBMNyZtnmFt",
    "1XdgIe5QIPn66KkZSP8VKw",
    "2R6GH4oqjWumf9vJxPFjiq",
    "J9zqYBVgac0cXzMylS1cYM"
   ],
   "version":2
  }
 },
 "nbformat":4,
 "nbformat_minor":4
}